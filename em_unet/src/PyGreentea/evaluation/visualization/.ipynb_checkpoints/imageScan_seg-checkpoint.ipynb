{
 "cells": [
  {
   "cell_type": "code",
   "execution_count": 2,
   "metadata": {
    "collapsed": false
   },
   "outputs": [
    {
     "name": "stdout",
     "output_type": "stream",
     "text": [
      "(520, 520, 520)\n",
      "(3, 520, 520, 520)\n",
      "seg: (520, 520, 520) 4446 0\n",
      "shape (520, 520)\n",
      "shape (520, 520)\n"
     ]
    }
   ],
   "source": [
    "# These are a set of functions to aid viewing of 3D EM images and their\n",
    "# associated affinity graphs\n",
    "\n",
    "import os\n",
    "import matplotlib.cm as cm\n",
    "import matplotlib\n",
    "import numpy as np\n",
    "from matplotlib.widgets import Slider, Button, RadioButtons\n",
    "import matplotlib.pyplot as plt\n",
    "import h5py\n",
    "import array\n",
    "\n",
    "#Displays three images: the raw data, the corresponding labels, and the predictions\n",
    "def display(raw, label, seg, im_size=250, im2_size=432):\n",
    "    cmap = matplotlib.colors.ListedColormap(np.vstack(((0,0,0),np.random.rand(255,3))))\n",
    "    fig = plt.figure(figsize=(20,10))\n",
    "    fig.set_facecolor('white')\n",
    "    ax1,ax2,ax3 = fig.add_subplot(1,3,1),fig.add_subplot(1,3,2),fig.add_subplot(1,3,3)\n",
    "\n",
    "    fig.subplots_adjust(left=0.2, bottom=0.25)\n",
    "    depth0 = 0\n",
    "    zoom0 = 250\n",
    "\n",
    "    #Image is grayscale\n",
    "    print 'shape',np.array(raw[1,:,:]).shape\n",
    "    im1 = ax1.imshow(raw[1,:,:],cmap=cm.Greys_r)\n",
    "    ax1.set_title('Raw Image')\n",
    "\n",
    "    im = np.zeros((im_size,im_size,3))\n",
    "    im[:,:,:]=label[1,:,:,:]\n",
    "    im2 = ax2.imshow(im)\n",
    "    ax2.set_title('Groundtruth')\n",
    "\n",
    "    im_ = np.zeros((im2_size,im2_size))\n",
    "    im_[:,:]=seg[1,:,:]\n",
    "    print 'shape',np.array(im_).shape\n",
    "    im3 = ax3.imshow(im_,cmap=cmap)\n",
    "    ax3.set_title('Seg')\n",
    "\n",
    "    axdepth = fig.add_axes([0.25, 0.3, 0.65, 0.03], axisbg='white')\n",
    "    #axzoom  = fig.add_axes([0.25, 0.15, 0.65, 0.03], axisbg=axcolor)\n",
    "\n",
    "    depth = Slider(axdepth, 'Min', 0, im_size, valinit=depth0,valfmt='%0.0f')\n",
    "    #zoom = Slider(axmax, 'Max', 0, 250, valinit=max0)\n",
    "\n",
    "    def update(val):\n",
    "        z = int(depth.val)\n",
    "        im1.set_data(raw[z,:,:])\n",
    "        im[:,:,:]=label[z,:,:,:]\n",
    "        im2.set_data(im)\n",
    "        im_[:,:]=seg[z,:,:]\n",
    "        im3.set_data(im_)\n",
    "        fig.canvas.draw()\n",
    "    depth.on_changed(update)\n",
    "    plt.show()\n",
    "\n",
    "\n",
    "data_folder = 'nobackup/turaga/data/fibsem_medulla_7col/tstvol-520-1-h5/'\n",
    "os.chdir('/.')\n",
    "\n",
    "#Open training data\n",
    "f = h5py.File(data_folder + 'img_normalized.h5', 'r')\n",
    "data_set = f['main'] #520,520,520, z,y,x\n",
    "print data_set.shape\n",
    "\n",
    "#Open training labels\n",
    "g = h5py.File(data_folder + 'groundtruth_aff.h5', 'r')\n",
    "label_set = np.asarray(g['main'],dtype='float32') #3,520,520,520  3,z,y,x\n",
    "print label_set.shape\n",
    "\n",
    "\n",
    "# transpose so they match image\n",
    "label_set = np.transpose(label_set,(1,2,3,0)) # z,y,x,3\n",
    "\n",
    "hdf5_seg_file = '/groups/turaga/home/turagas/data/FlyEM/fibsem_medulla_7col/tstvol-520-1-h5/groundtruth_seg_thick.h5'\n",
    "#hdf5_seg_file = '/tier2/turaga/singhc/out/test_save_dat/square/1000.dat'\n",
    "hdf5_seg = h5py.File(hdf5_seg_file, 'r')\n",
    "seg = np.asarray(hdf5_seg['main'],dtype='uint32')\n",
    "print 'seg:',seg.shape,np.max(seg),np.min(seg)\n",
    "\n",
    "# reshape labels, image\n",
    "gt_data_dimension = label_set.shape[0]\n",
    "data_dimension = seg.shape[1]\n",
    "if gt_data_dimension != data_dimension:\n",
    "    padding = (gt_data_dimension - data_dimension) / 2\n",
    "    print(data_set.shape,padding)\n",
    "    data_set = data_set[padding:(-1*padding),padding:(-1*padding),padding:(-1*padding)]\n",
    "    print(\"label_set before\",label_set.shape)\n",
    "    label_set = label_set[padding:(-1*padding),padding:(-1*padding),padding:(-1*padding),:]\n",
    "    print(\"label_set\",label_set.shape)\n",
    "\n",
    "display(data_set, label_set, seg, im_size=520, im2_size=520)"
   ]
  },
  {
   "cell_type": "code",
   "execution_count": null,
   "metadata": {
    "collapsed": true
   },
   "outputs": [],
   "source": []
  }
 ],
 "metadata": {
  "kernelspec": {
   "display_name": "Python 2",
   "language": "python",
   "name": "python2"
  },
  "language_info": {
   "codemirror_mode": {
    "name": "ipython",
    "version": 2
   },
   "file_extension": ".py",
   "mimetype": "text/x-python",
   "name": "python",
   "nbconvert_exporter": "python",
   "pygments_lexer": "ipython2",
   "version": "2.7.11"
  }
 },
 "nbformat": 4,
 "nbformat_minor": 0
}
